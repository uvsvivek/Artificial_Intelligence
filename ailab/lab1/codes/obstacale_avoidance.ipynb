{
 "cells": [
  {
   "cell_type": "code",
   "execution_count": 3,
   "metadata": {},
   "outputs": [
    {
     "name": "stdout",
     "output_type": "stream",
     "text": [
      "Program started\n",
      "Connected to remote API server\n",
      "Number of objects in the scene:  81\n",
      "['clientID', 'energySensor', 'leftMotorHandle', 'pioneerRobotHandle', 'rightMotorHandle', 'ultraSonicSensorLeft', 'ultraSonicSensorRight']\n",
      "Time: 6000 ultraSonicSensorLeft: inf ultraSonicSensorRight: inf\n",
      "Time: 11000 ultraSonicSensorLeft: inf ultraSonicSensorRight: inf\n",
      "Time: 16000 ultraSonicSensorLeft: inf ultraSonicSensorRight: inf\n",
      "Time: 21000 ultraSonicSensorLeft: inf ultraSonicSensorRight: inf\n",
      "Time: 26000 ultraSonicSensorLeft: inf ultraSonicSensorRight: inf\n",
      "Time: 37000 ultraSonicSensorLeft: 0.4693354477616544 ultraSonicSensorRight: 0.4449160732688931\n",
      "Time: 38000 ultraSonicSensorLeft: 0.44688649658997126 ultraSonicSensorRight: 0.6062914437783437\n"
     ]
    },
    {
     "ename": "KeyboardInterrupt",
     "evalue": "",
     "output_type": "error",
     "traceback": [
      "\u001b[1;31m---------------------------------------------------------------------------\u001b[0m",
      "\u001b[1;31mKeyboardInterrupt\u001b[0m                         Traceback (most recent call last)",
      "\u001b[1;32m<ipython-input-3-734dc7ac3652>\u001b[0m in \u001b[0;36m<module>\u001b[1;34m\u001b[0m\n\u001b[0;32m     36\u001b[0m     \u001b[1;31m#motorSpeed = dict(speedLeft=4, speedRight=4)\u001b[0m\u001b[1;33m\u001b[0m\u001b[1;33m\u001b[0m\u001b[1;33m\u001b[0m\u001b[0m\n\u001b[0;32m     37\u001b[0m \u001b[1;33m\u001b[0m\u001b[0m\n\u001b[1;32m---> 38\u001b[1;33m     \u001b[1;32mif\u001b[0m\u001b[1;33m(\u001b[0m\u001b[0mWorld\u001b[0m\u001b[1;33m.\u001b[0m\u001b[0mgetSensorReading\u001b[0m\u001b[1;33m(\u001b[0m\u001b[1;34m\"ultraSonicSensorLeft\"\u001b[0m\u001b[1;33m)\u001b[0m\u001b[1;33m<\u001b[0m\u001b[1;36m0.5\u001b[0m\u001b[1;33m)\u001b[0m\u001b[1;33m:\u001b[0m\u001b[1;33m\u001b[0m\u001b[1;33m\u001b[0m\u001b[0m\n\u001b[0m\u001b[0;32m     39\u001b[0m         \u001b[0mmotorSpeed\u001b[0m \u001b[1;33m=\u001b[0m \u001b[0mdict\u001b[0m\u001b[1;33m(\u001b[0m\u001b[0mspeedLeft\u001b[0m\u001b[1;33m=\u001b[0m\u001b[1;36m1\u001b[0m\u001b[1;33m,\u001b[0m \u001b[0mspeedRight\u001b[0m\u001b[1;33m=\u001b[0m\u001b[1;33m-\u001b[0m\u001b[1;36m1\u001b[0m\u001b[1;33m)\u001b[0m\u001b[1;33m\u001b[0m\u001b[1;33m\u001b[0m\u001b[0m\n\u001b[0;32m     40\u001b[0m         \u001b[0mWorld\u001b[0m\u001b[1;33m.\u001b[0m\u001b[0mcollectNearestBlock\u001b[0m\u001b[1;33m(\u001b[0m\u001b[1;33m)\u001b[0m\u001b[1;33m\u001b[0m\u001b[1;33m\u001b[0m\u001b[0m\n",
      "\u001b[1;32mE:\\vrep\\lab1_code_Lab1_Agents_Task1_World.py\u001b[0m in \u001b[0;36mgetSensorReading\u001b[1;34m(sensor)\u001b[0m\n\u001b[0;32m     18\u001b[0m             \u001b[1;32mreturn\u001b[0m \u001b[0mfloat\u001b[0m\u001b[1;33m(\u001b[0m\u001b[1;34m'inf'\u001b[0m\u001b[1;33m)\u001b[0m\u001b[1;33m\u001b[0m\u001b[1;33m\u001b[0m\u001b[0m\n\u001b[0;32m     19\u001b[0m     \u001b[1;32mif\u001b[0m \u001b[0msensor\u001b[0m\u001b[1;33m==\u001b[0m\u001b[1;34m\"ultraSonicSensorLeft\"\u001b[0m\u001b[1;33m:\u001b[0m\u001b[1;33m\u001b[0m\u001b[1;33m\u001b[0m\u001b[0m\n\u001b[1;32m---> 20\u001b[1;33m         \u001b[1;32mreturn\u001b[0m \u001b[0mgetObstacleDist\u001b[0m\u001b[1;33m(\u001b[0m\u001b[0mrobot\u001b[0m\u001b[1;33m.\u001b[0m\u001b[0multraSonicSensorLeft\u001b[0m\u001b[1;33m)\u001b[0m\u001b[1;33m\u001b[0m\u001b[1;33m\u001b[0m\u001b[0m\n\u001b[0m\u001b[0;32m     21\u001b[0m     \u001b[1;32melif\u001b[0m \u001b[0msensor\u001b[0m\u001b[1;33m==\u001b[0m\u001b[1;34m\"ultraSonicSensorRight\"\u001b[0m\u001b[1;33m:\u001b[0m\u001b[1;33m\u001b[0m\u001b[1;33m\u001b[0m\u001b[0m\n\u001b[0;32m     22\u001b[0m         \u001b[1;32mreturn\u001b[0m \u001b[0mgetObstacleDist\u001b[0m\u001b[1;33m(\u001b[0m\u001b[0mrobot\u001b[0m\u001b[1;33m.\u001b[0m\u001b[0multraSonicSensorRight\u001b[0m\u001b[1;33m)\u001b[0m\u001b[1;33m\u001b[0m\u001b[1;33m\u001b[0m\u001b[0m\n",
      "\u001b[1;32mE:\\vrep\\lab1_code_Lab1_Agents_Task1_World.py\u001b[0m in \u001b[0;36mgetObstacleDist\u001b[1;34m(sensorHandler_)\u001b[0m\n\u001b[0;32m     10\u001b[0m     \u001b[1;32mdef\u001b[0m \u001b[0mgetObstacleDist\u001b[0m\u001b[1;33m(\u001b[0m\u001b[0msensorHandler_\u001b[0m\u001b[1;33m)\u001b[0m\u001b[1;33m:\u001b[0m\u001b[1;33m\u001b[0m\u001b[1;33m\u001b[0m\u001b[0m\n\u001b[0;32m     11\u001b[0m         \u001b[1;31m# Get raw sensor readings using API\u001b[0m\u001b[1;33m\u001b[0m\u001b[1;33m\u001b[0m\u001b[1;33m\u001b[0m\u001b[0m\n\u001b[1;32m---> 12\u001b[1;33m         \u001b[0mrawSR\u001b[0m \u001b[1;33m=\u001b[0m \u001b[0mvrep\u001b[0m\u001b[1;33m.\u001b[0m\u001b[0msimxReadProximitySensor\u001b[0m\u001b[1;33m(\u001b[0m\u001b[0mrobot\u001b[0m\u001b[1;33m.\u001b[0m\u001b[0mclientID\u001b[0m\u001b[1;33m,\u001b[0m \u001b[0msensorHandler_\u001b[0m\u001b[1;33m,\u001b[0m \u001b[0mvrep\u001b[0m\u001b[1;33m.\u001b[0m\u001b[0msimx_opmode_oneshot_wait\u001b[0m\u001b[1;33m)\u001b[0m\u001b[1;33m\u001b[0m\u001b[1;33m\u001b[0m\u001b[0m\n\u001b[0m\u001b[0;32m     13\u001b[0m         \u001b[1;31m#print(rawSR)\u001b[0m\u001b[1;33m\u001b[0m\u001b[1;33m\u001b[0m\u001b[1;33m\u001b[0m\u001b[0m\n\u001b[0;32m     14\u001b[0m         \u001b[1;31m# Calculate Euclidean distance\u001b[0m\u001b[1;33m\u001b[0m\u001b[1;33m\u001b[0m\u001b[1;33m\u001b[0m\u001b[0m\n",
      "\u001b[1;32m~\\vrep\\vrep.py\u001b[0m in \u001b[0;36msimxReadProximitySensor\u001b[1;34m(clientID, sensorHandle, operationMode)\u001b[0m\n\u001b[0;32m    334\u001b[0m     \u001b[0mdetectedPoint\u001b[0m  \u001b[1;33m=\u001b[0m \u001b[1;33m(\u001b[0m\u001b[0mct\u001b[0m\u001b[1;33m.\u001b[0m\u001b[0mc_float\u001b[0m\u001b[1;33m*\u001b[0m\u001b[1;36m3\u001b[0m\u001b[1;33m)\u001b[0m\u001b[1;33m(\u001b[0m\u001b[1;33m)\u001b[0m\u001b[1;33m\u001b[0m\u001b[1;33m\u001b[0m\u001b[0m\n\u001b[0;32m    335\u001b[0m     \u001b[0mdetectedSurfaceNormalVector\u001b[0m \u001b[1;33m=\u001b[0m \u001b[1;33m(\u001b[0m\u001b[0mct\u001b[0m\u001b[1;33m.\u001b[0m\u001b[0mc_float\u001b[0m\u001b[1;33m*\u001b[0m\u001b[1;36m3\u001b[0m\u001b[1;33m)\u001b[0m\u001b[1;33m(\u001b[0m\u001b[1;33m)\u001b[0m\u001b[1;33m\u001b[0m\u001b[1;33m\u001b[0m\u001b[0m\n\u001b[1;32m--> 336\u001b[1;33m     \u001b[0mret\u001b[0m \u001b[1;33m=\u001b[0m \u001b[0mc_ReadProximitySensor\u001b[0m\u001b[1;33m(\u001b[0m\u001b[0mclientID\u001b[0m\u001b[1;33m,\u001b[0m \u001b[0msensorHandle\u001b[0m\u001b[1;33m,\u001b[0m \u001b[0mct\u001b[0m\u001b[1;33m.\u001b[0m\u001b[0mbyref\u001b[0m\u001b[1;33m(\u001b[0m\u001b[0mdetectionState\u001b[0m\u001b[1;33m)\u001b[0m\u001b[1;33m,\u001b[0m \u001b[0mdetectedPoint\u001b[0m\u001b[1;33m,\u001b[0m \u001b[0mct\u001b[0m\u001b[1;33m.\u001b[0m\u001b[0mbyref\u001b[0m\u001b[1;33m(\u001b[0m\u001b[0mdetectedObjectHandle\u001b[0m\u001b[1;33m)\u001b[0m\u001b[1;33m,\u001b[0m \u001b[0mdetectedSurfaceNormalVector\u001b[0m\u001b[1;33m,\u001b[0m \u001b[0moperationMode\u001b[0m\u001b[1;33m)\u001b[0m\u001b[1;33m\u001b[0m\u001b[1;33m\u001b[0m\u001b[0m\n\u001b[0m\u001b[0;32m    337\u001b[0m     \u001b[0marr1\u001b[0m \u001b[1;33m=\u001b[0m \u001b[1;33m[\u001b[0m\u001b[1;33m]\u001b[0m\u001b[1;33m\u001b[0m\u001b[1;33m\u001b[0m\u001b[0m\n\u001b[0;32m    338\u001b[0m     \u001b[1;32mfor\u001b[0m \u001b[0mi\u001b[0m \u001b[1;32min\u001b[0m \u001b[0mrange\u001b[0m\u001b[1;33m(\u001b[0m\u001b[1;36m3\u001b[0m\u001b[1;33m)\u001b[0m\u001b[1;33m:\u001b[0m\u001b[1;33m\u001b[0m\u001b[1;33m\u001b[0m\u001b[0m\n",
      "\u001b[1;31mKeyboardInterrupt\u001b[0m: "
     ]
    }
   ],
   "source": [
    "# Make sure to have the server side running in V-REP:\n",
    "# in a child script of a V-REP scene, add following command\n",
    "# to be executed just once, at simulation start:\n",
    "#\n",
    "# simExtRemoteApiStart(19999)\n",
    "# then start simulation, and run this program.\n",
    "#\n",
    "# IMPORTANT: for each successful call to simxStart, there\n",
    "# should be a corresponding call to simxFinish at the end!\n",
    "import sys\n",
    "sys.path.append('E:\\\\vrep')\n",
    "import lab1_code_Lab1_Agents_Task1_World as World\n",
    "\n",
    "# connect to the server\n",
    "robot = World.init()\n",
    "# print important parts of the robot\n",
    "print(sorted(robot.keys()))\n",
    "\n",
    "while robot: # main Control loop\n",
    "    #######################################################\n",
    "    # Perception Phase: Get information about environment #\n",
    "    #######################################################\n",
    "    simulationTime = World.getSimulationTime()\n",
    "    if simulationTime%1000==0:\n",
    "        # print some useful info, but not too often\n",
    "        print ('Time:',simulationTime,\\\n",
    "               'ultraSonicSensorLeft:',World.getSensorReading(\"ultraSonicSensorLeft\"),\\\n",
    "               \"ultraSonicSensorRight:\", World.getSensorReading(\"ultraSonicSensorRight\"))\n",
    "\n",
    "    ##############################################\n",
    "    # Reasoning: figure out which action to take #\n",
    "    ##############################################\n",
    "    blockHandle,blockName,distance,direction =World.findEnergyBlocks()[0]\n",
    "   # print(World.getSensorReading(\"energySensor\"))\n",
    "    #print(direction)\n",
    "    #motorSpeed = dict(speedLeft=4, speedRight=4)\n",
    "            \n",
    "    if(World.getSensorReading(\"ultraSonicSensorLeft\")<0.5):\n",
    "        motorSpeed = dict(speedLeft=1, speedRight=-1)\n",
    "        World.collectNearestBlock()\n",
    "    elif(World.getSensorReading(\"ultraSonicSensorRight\")<0.5):\n",
    "        motorSpeed = dict(speedLeft=-1, speedRight=1)\n",
    "        World.collectNearestBlock()\n",
    "    else:\n",
    "        motorSpeed = dict(speedLeft=2, speedRight=2)\n",
    "        World.collectNearestBlock() \n",
    "    \n",
    "        \n",
    "\n",
    "    World.setMotorSpeeds(motorSpeed)\n",
    "        \n",
    "    ########################################\n",
    "    # Action Phase: Assign speed to wheels #\n",
    "    ########################################\n",
    "    # assign speed to the wheels\n",
    "    #World.setMotorSpeeds(motorSpeed)\n",
    "    # try to collect energy block (will fail if not within range)\n",
    "    '''if simulationTime%10000==0:\n",
    "        print (\"Trying to collect a block...\",World.collectNearestBlock())'''"
   ]
  },
  {
   "cell_type": "code",
   "execution_count": null,
   "metadata": {},
   "outputs": [],
   "source": []
  }
 ],
 "metadata": {
  "kernelspec": {
   "display_name": "Python 3",
   "language": "python",
   "name": "python3"
  },
  "language_info": {
   "codemirror_mode": {
    "name": "ipython",
    "version": 3
   },
   "file_extension": ".py",
   "mimetype": "text/x-python",
   "name": "python",
   "nbconvert_exporter": "python",
   "pygments_lexer": "ipython3",
   "version": "3.7.4"
  }
 },
 "nbformat": 4,
 "nbformat_minor": 2
}

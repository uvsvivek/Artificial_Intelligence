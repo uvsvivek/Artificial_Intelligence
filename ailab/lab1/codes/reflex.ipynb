{
 "cells": [
  {
   "cell_type": "code",
   "execution_count": 1,
   "metadata": {
    "scrolled": true
   },
   "outputs": [
    {
     "name": "stdout",
     "output_type": "stream",
     "text": [
      "Program started\n",
      "Connected to remote API server\n",
      "Number of objects in the scene:  81\n",
      "['clientID', 'energySensor', 'leftMotorHandle', 'pioneerRobotHandle', 'rightMotorHandle', 'ultraSonicSensorLeft', 'ultraSonicSensorRight']\n"
     ]
    },
    {
     "ename": "KeyboardInterrupt",
     "evalue": "",
     "output_type": "error",
     "traceback": [
      "\u001b[1;31m---------------------------------------------------------------------------\u001b[0m",
      "\u001b[1;31mKeyboardInterrupt\u001b[0m                         Traceback (most recent call last)",
      "\u001b[1;32m<ipython-input-1-5406986018ca>\u001b[0m in \u001b[0;36m<module>\u001b[1;34m\u001b[0m\n\u001b[0;32m     41\u001b[0m     \u001b[1;32melif\u001b[0m\u001b[1;33m(\u001b[0m\u001b[0mdirection\u001b[0m \u001b[1;33m>\u001b[0m \u001b[1;36m0.06\u001b[0m\u001b[1;33m)\u001b[0m\u001b[1;33m:\u001b[0m\u001b[1;33m\u001b[0m\u001b[1;33m\u001b[0m\u001b[0m\n\u001b[0;32m     42\u001b[0m         \u001b[0mmotorSpeed\u001b[0m \u001b[1;33m=\u001b[0m \u001b[0mdict\u001b[0m\u001b[1;33m(\u001b[0m\u001b[0mspeedLeft\u001b[0m\u001b[1;33m=\u001b[0m\u001b[1;36m1\u001b[0m\u001b[1;33m,\u001b[0m \u001b[0mspeedRight\u001b[0m\u001b[1;33m=\u001b[0m\u001b[1;33m-\u001b[0m\u001b[1;36m1\u001b[0m\u001b[1;33m)\u001b[0m\u001b[1;33m\u001b[0m\u001b[1;33m\u001b[0m\u001b[0m\n\u001b[1;32m---> 43\u001b[1;33m         \u001b[0mWorld\u001b[0m\u001b[1;33m.\u001b[0m\u001b[0mcollectNearestBlock\u001b[0m\u001b[1;33m(\u001b[0m\u001b[1;33m)\u001b[0m\u001b[1;33m\u001b[0m\u001b[1;33m\u001b[0m\u001b[0m\n\u001b[0m\u001b[0;32m     44\u001b[0m     \u001b[1;32melse\u001b[0m\u001b[1;33m:\u001b[0m\u001b[1;33m\u001b[0m\u001b[1;33m\u001b[0m\u001b[0m\n\u001b[0;32m     45\u001b[0m         \u001b[0mmotorSpeed\u001b[0m \u001b[1;33m=\u001b[0m \u001b[0mdict\u001b[0m\u001b[1;33m(\u001b[0m\u001b[0mspeedLeft\u001b[0m\u001b[1;33m=\u001b[0m\u001b[1;36m4\u001b[0m\u001b[1;33m,\u001b[0m \u001b[0mspeedRight\u001b[0m\u001b[1;33m=\u001b[0m\u001b[1;36m4\u001b[0m\u001b[1;33m)\u001b[0m\u001b[1;33m\u001b[0m\u001b[1;33m\u001b[0m\u001b[0m\n",
      "\u001b[1;32mE:\\vrep\\lab1_code_Lab1_Agents_Task1_World.py\u001b[0m in \u001b[0;36mcollectNearestBlock\u001b[1;34m()\u001b[0m\n\u001b[0;32m    132\u001b[0m \u001b[1;31m# helper function\u001b[0m\u001b[1;33m\u001b[0m\u001b[1;33m\u001b[0m\u001b[1;33m\u001b[0m\u001b[0m\n\u001b[0;32m    133\u001b[0m \u001b[1;32mdef\u001b[0m \u001b[0mcollectNearestBlock\u001b[0m\u001b[1;33m(\u001b[0m\u001b[1;33m)\u001b[0m\u001b[1;33m:\u001b[0m\u001b[1;33m\u001b[0m\u001b[1;33m\u001b[0m\u001b[0m\n\u001b[1;32m--> 134\u001b[1;33m     \u001b[0mblockHandle\u001b[0m\u001b[1;33m,\u001b[0m\u001b[0mblockName\u001b[0m\u001b[1;33m,\u001b[0m\u001b[0mdistance\u001b[0m\u001b[1;33m,\u001b[0m\u001b[0mdirection\u001b[0m \u001b[1;33m=\u001b[0m \u001b[0mfindEnergyBlocks\u001b[0m\u001b[1;33m(\u001b[0m\u001b[1;33m)\u001b[0m\u001b[1;33m[\u001b[0m\u001b[1;36m0\u001b[0m\u001b[1;33m]\u001b[0m\u001b[1;33m\u001b[0m\u001b[1;33m\u001b[0m\u001b[0m\n\u001b[0m\u001b[0;32m    135\u001b[0m     \u001b[1;32mif\u001b[0m \u001b[0mdistance\u001b[0m \u001b[1;33m<=\u001b[0m \u001b[1;36m0.5\u001b[0m\u001b[1;33m:\u001b[0m\u001b[1;33m\u001b[0m\u001b[1;33m\u001b[0m\u001b[0m\n\u001b[0;32m    136\u001b[0m         \u001b[0mvrep\u001b[0m\u001b[1;33m.\u001b[0m\u001b[0msimxSetObjectPosition\u001b[0m\u001b[1;33m(\u001b[0m\u001b[0mrobot\u001b[0m\u001b[1;33m.\u001b[0m\u001b[0mclientID\u001b[0m\u001b[1;33m,\u001b[0m \u001b[0mblockHandle\u001b[0m\u001b[1;33m,\u001b[0m \u001b[1;33m-\u001b[0m\u001b[1;36m1\u001b[0m\u001b[1;33m,\u001b[0m \u001b[1;33m[\u001b[0m\u001b[1;36m1000\u001b[0m\u001b[1;33m,\u001b[0m\u001b[1;36m1000\u001b[0m\u001b[1;33m,\u001b[0m\u001b[1;33m-\u001b[0m\u001b[1;36m2\u001b[0m\u001b[1;33m]\u001b[0m\u001b[1;33m,\u001b[0m \u001b[0mvrep\u001b[0m\u001b[1;33m.\u001b[0m\u001b[0msimx_opmode_oneshot\u001b[0m\u001b[1;33m)\u001b[0m\u001b[1;33m\u001b[0m\u001b[1;33m\u001b[0m\u001b[0m\n",
      "\u001b[1;32mE:\\vrep\\lab1_code_Lab1_Agents_Task1_World.py\u001b[0m in \u001b[0;36mfindEnergyBlocks\u001b[1;34m()\u001b[0m\n\u001b[0;32m    119\u001b[0m     \u001b[0mres\u001b[0m \u001b[1;33m=\u001b[0m \u001b[1;33m[\u001b[0m\u001b[1;33m]\u001b[0m\u001b[1;33m\u001b[0m\u001b[1;33m\u001b[0m\u001b[0m\n\u001b[0;32m    120\u001b[0m     \u001b[0mretCode\u001b[0m\u001b[1;33m,\u001b[0m \u001b[0mrobotPos\u001b[0m \u001b[1;33m=\u001b[0m \u001b[0mvrep\u001b[0m\u001b[1;33m.\u001b[0m\u001b[0msimxGetObjectPosition\u001b[0m\u001b[1;33m(\u001b[0m\u001b[0mrobot\u001b[0m\u001b[1;33m.\u001b[0m\u001b[0mclientID\u001b[0m\u001b[1;33m,\u001b[0m \u001b[0mrobot\u001b[0m\u001b[1;33m.\u001b[0m\u001b[0mpioneerRobotHandle\u001b[0m\u001b[1;33m,\u001b[0m \u001b[1;33m-\u001b[0m\u001b[1;36m1\u001b[0m\u001b[1;33m,\u001b[0m \u001b[0mvrep\u001b[0m\u001b[1;33m.\u001b[0m\u001b[0msimx_opmode_oneshot_wait\u001b[0m\u001b[1;33m)\u001b[0m\u001b[1;33m\u001b[0m\u001b[1;33m\u001b[0m\u001b[0m\n\u001b[1;32m--> 121\u001b[1;33m     \u001b[0mrobotdirection\u001b[0m \u001b[1;33m=\u001b[0m \u001b[0mrobotDirection\u001b[0m\u001b[1;33m(\u001b[0m\u001b[1;33m)\u001b[0m\u001b[1;33m\u001b[0m\u001b[1;33m\u001b[0m\u001b[0m\n\u001b[0m\u001b[0;32m    122\u001b[0m     \u001b[1;32mfor\u001b[0m \u001b[0mblockHandle\u001b[0m\u001b[1;33m,\u001b[0m\u001b[0mblockName\u001b[0m\u001b[1;33m,\u001b[0m\u001b[0mblockPosition\u001b[0m \u001b[1;32min\u001b[0m \u001b[0mblockHandleArray\u001b[0m\u001b[1;33m:\u001b[0m\u001b[1;33m\u001b[0m\u001b[1;33m\u001b[0m\u001b[0m\n\u001b[0;32m    123\u001b[0m         \u001b[1;31m# retCode, relativePos = vrep.simxGetObjectPosition(robot.clientID, blockHandle, robot.pioneerRobotHandle, vrep.simx_opmode_oneshot_wait)\u001b[0m\u001b[1;33m\u001b[0m\u001b[1;33m\u001b[0m\u001b[1;33m\u001b[0m\u001b[0m\n",
      "\u001b[1;32mE:\\vrep\\lab1_code_Lab1_Agents_Task1_World.py\u001b[0m in \u001b[0;36mrobotDirection\u001b[1;34m()\u001b[0m\n\u001b[0;32m     49\u001b[0m \u001b[1;31m# which direction robot is facing?\u001b[0m\u001b[1;33m\u001b[0m\u001b[1;33m\u001b[0m\u001b[1;33m\u001b[0m\u001b[0m\n\u001b[0;32m     50\u001b[0m \u001b[1;32mdef\u001b[0m \u001b[0mrobotDirection\u001b[0m\u001b[1;33m(\u001b[0m\u001b[1;33m)\u001b[0m\u001b[1;33m:\u001b[0m\u001b[1;33m\u001b[0m\u001b[1;33m\u001b[0m\u001b[0m\n\u001b[1;32m---> 51\u001b[1;33m     \u001b[0mretCode\u001b[0m\u001b[1;33m,\u001b[0m \u001b[0mrobotOrientation\u001b[0m \u001b[1;33m=\u001b[0m \u001b[0mvrep\u001b[0m\u001b[1;33m.\u001b[0m\u001b[0msimxGetObjectOrientation\u001b[0m\u001b[1;33m(\u001b[0m\u001b[0mrobot\u001b[0m\u001b[1;33m.\u001b[0m\u001b[0mclientID\u001b[0m\u001b[1;33m,\u001b[0m \u001b[0mrobot\u001b[0m\u001b[1;33m.\u001b[0m\u001b[0mpioneerRobotHandle\u001b[0m\u001b[1;33m,\u001b[0m \u001b[1;33m-\u001b[0m\u001b[1;36m1\u001b[0m\u001b[1;33m,\u001b[0m \u001b[0mvrep\u001b[0m\u001b[1;33m.\u001b[0m\u001b[0msimx_opmode_oneshot_wait\u001b[0m\u001b[1;33m)\u001b[0m\u001b[1;33m\u001b[0m\u001b[1;33m\u001b[0m\u001b[0m\n\u001b[0m\u001b[0;32m     52\u001b[0m     \u001b[0mdirection\u001b[0m \u001b[1;33m=\u001b[0m \u001b[0mmath\u001b[0m\u001b[1;33m.\u001b[0m\u001b[0mpi\u001b[0m\u001b[1;33m/\u001b[0m\u001b[1;36m2\u001b[0m \u001b[1;33m-\u001b[0m \u001b[0mrobotOrientation\u001b[0m\u001b[1;33m[\u001b[0m\u001b[1;36m2\u001b[0m\u001b[1;33m]\u001b[0m\u001b[1;33m\u001b[0m\u001b[1;33m\u001b[0m\u001b[0m\n\u001b[0;32m     53\u001b[0m     \u001b[1;32mreturn\u001b[0m \u001b[0mnormaliseAngle\u001b[0m\u001b[1;33m(\u001b[0m\u001b[0mdirection\u001b[0m\u001b[1;33m)\u001b[0m\u001b[1;33m\u001b[0m\u001b[1;33m\u001b[0m\u001b[0m\n",
      "\u001b[1;32m~\\vrep\\vrep.py\u001b[0m in \u001b[0;36msimxGetObjectOrientation\u001b[1;34m(clientID, objectHandle, relativeToObjectHandle, operationMode)\u001b[0m\n\u001b[0;32m    518\u001b[0m     '''\n\u001b[0;32m    519\u001b[0m     \u001b[0meulerAngles\u001b[0m \u001b[1;33m=\u001b[0m \u001b[1;33m(\u001b[0m\u001b[0mct\u001b[0m\u001b[1;33m.\u001b[0m\u001b[0mc_float\u001b[0m\u001b[1;33m*\u001b[0m\u001b[1;36m3\u001b[0m\u001b[1;33m)\u001b[0m\u001b[1;33m(\u001b[0m\u001b[1;33m)\u001b[0m\u001b[1;33m\u001b[0m\u001b[1;33m\u001b[0m\u001b[0m\n\u001b[1;32m--> 520\u001b[1;33m     \u001b[0mret\u001b[0m \u001b[1;33m=\u001b[0m \u001b[0mc_GetObjectOrientation\u001b[0m\u001b[1;33m(\u001b[0m\u001b[0mclientID\u001b[0m\u001b[1;33m,\u001b[0m \u001b[0mobjectHandle\u001b[0m\u001b[1;33m,\u001b[0m \u001b[0mrelativeToObjectHandle\u001b[0m\u001b[1;33m,\u001b[0m \u001b[0meulerAngles\u001b[0m\u001b[1;33m,\u001b[0m \u001b[0moperationMode\u001b[0m\u001b[1;33m)\u001b[0m\u001b[1;33m\u001b[0m\u001b[1;33m\u001b[0m\u001b[0m\n\u001b[0m\u001b[0;32m    521\u001b[0m     \u001b[0marr\u001b[0m \u001b[1;33m=\u001b[0m \u001b[1;33m[\u001b[0m\u001b[1;33m]\u001b[0m\u001b[1;33m\u001b[0m\u001b[1;33m\u001b[0m\u001b[0m\n\u001b[0;32m    522\u001b[0m     \u001b[1;32mfor\u001b[0m \u001b[0mi\u001b[0m \u001b[1;32min\u001b[0m \u001b[0mrange\u001b[0m\u001b[1;33m(\u001b[0m\u001b[1;36m3\u001b[0m\u001b[1;33m)\u001b[0m\u001b[1;33m:\u001b[0m\u001b[1;33m\u001b[0m\u001b[1;33m\u001b[0m\u001b[0m\n",
      "\u001b[1;31mKeyboardInterrupt\u001b[0m: "
     ]
    }
   ],
   "source": [
    "# Make sure to have the server side running in V-REP:\n",
    "# in a child script of a V-REP scene, add following command\n",
    "# to be executed just once, at simulation start:\n",
    "#\n",
    "# simExtRemoteApiStart(19999)\n",
    "# then start simulation, and run this program.\n",
    "#\n",
    "# IMPORTANT: for each successful call to simxStart, there\n",
    "# should be a corresponding call to simxFinish at the end!\n",
    "import sys\n",
    "sys.path.append('E:\\\\vrep')\n",
    "import lab1_code_Lab1_Agents_Task1_World as World\n",
    "\n",
    "# connect to the server\n",
    "robot = World.init()\n",
    "# print important parts of the robot\n",
    "print(sorted(robot.keys()))\n",
    "\n",
    "while robot: # main Control loop\n",
    "    #######################################################\n",
    "    # Perception Phase: Get information about environment #\n",
    "    #######################################################\n",
    "    simulationTime = World.getSimulationTime()\n",
    "    if simulationTime%1000==0:\n",
    "        # print some useful info, but not too often\n",
    "        print ('Time:',simulationTime,\\\n",
    "               'ultraSonicSensorLeft:',World.getSensorReading(\"ultraSonicSensorLeft\"),\\\n",
    "               \"ultraSonicSensorRight:\", World.getSensorReading(\"ultraSonicSensorRight\"))\n",
    "\n",
    "    ##############################################\n",
    "    # Reasoning: figure out which action to take #\n",
    "    ##############################################\n",
    "    blockHandle,blockName,distance,direction =World.findEnergyBlocks()[0]\n",
    "   # print(World.getSensorReading(\"energySensor\"))\n",
    "    #print(direction)\n",
    "    #motorSpeed = dict(speedLeft=4, speedRight=4)\n",
    "            \n",
    "    if(direction <-0.05):\n",
    "        motorSpeed = dict(speedLeft=-1, speedRight=1)\n",
    "        World.collectNearestBlock()\n",
    "    elif(direction > 0.06):\n",
    "        motorSpeed = dict(speedLeft=1, speedRight=-1)\n",
    "        World.collectNearestBlock()\n",
    "    else:\n",
    "        motorSpeed = dict(speedLeft=4, speedRight=4)\n",
    "        World.collectNearestBlock()\n",
    "        \n",
    "        \n",
    "        \n",
    "    ########################################\n",
    "    # Action Phase: Assign speed to wheels #\n",
    "    ########################################\n",
    "    # assign speed to the wheels\n",
    "    World.setMotorSpeeds(motorSpeed)\n",
    "    # try to collect energy block (will fail if not within range)\n",
    "    '''if simulationTime%10000==0:\n",
    "        print (\"Trying to collect a block...\",World.collectNearestBlock())'''"
   ]
  },
  {
   "cell_type": "code",
   "execution_count": null,
   "metadata": {},
   "outputs": [],
   "source": []
  },
  {
   "cell_type": "code",
   "execution_count": null,
   "metadata": {},
   "outputs": [],
   "source": []
  },
  {
   "cell_type": "code",
   "execution_count": null,
   "metadata": {},
   "outputs": [],
   "source": []
  },
  {
   "cell_type": "code",
   "execution_count": null,
   "metadata": {},
   "outputs": [],
   "source": []
  },
  {
   "cell_type": "code",
   "execution_count": null,
   "metadata": {},
   "outputs": [],
   "source": []
  }
 ],
 "metadata": {
  "kernelspec": {
   "display_name": "Python 3",
   "language": "python",
   "name": "python3"
  },
  "language_info": {
   "codemirror_mode": {
    "name": "ipython",
    "version": 3
   },
   "file_extension": ".py",
   "mimetype": "text/x-python",
   "name": "python",
   "nbconvert_exporter": "python",
   "pygments_lexer": "ipython3",
   "version": "3.7.4"
  }
 },
 "nbformat": 4,
 "nbformat_minor": 2
}

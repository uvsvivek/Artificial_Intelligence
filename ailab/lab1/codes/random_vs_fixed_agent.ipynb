{
 "cells": [
  {
   "cell_type": "code",
   "execution_count": 2,
   "metadata": {},
   "outputs": [
    {
     "name": "stdout",
     "output_type": "stream",
     "text": [
      "name=three of a kind \n",
      "rank= 5 \n",
      "suit1= c \n",
      "suit2= d \n",
      "suit3= s\n",
      "name='pair \n",
      "rank= 2 \n",
      "suit1= c \n",
      "suit2= s\n",
      "Hand 1 is winner\n",
      "hand 1 wons the total amount is 100\n"
     ]
    }
   ],
   "source": [
    "__author__ = 'fyt'\n",
    "import sys\n",
    "import random\n",
    "\n",
    "# identify if there is one or more pairs in the hand\n",
    "\n",
    "# Rank: {2, 3, 4, 5, 6, 7, 8, 9, T, J, Q, K, A}\n",
    "# Suit: {s, h, d, c}\n",
    "\n",
    "# 2 example poker hands\n",
    "CurrentHand1 = ['Ad', '2s', '2c']\n",
    "CurrentHand2 = ['5s', '5c', '5d']\n",
    "\n",
    "# identify hand category using IF-THEN rule\n",
    "def identifyHand(Hand_):\n",
    "    \n",
    "    if(Hand_[1][0]==Hand_[0][0]==Hand_[2][0]):\n",
    "        \n",
    "        for c1 in Hand_:\n",
    "            for c2 in  Hand_:\n",
    "                for c3 in Hand_:\n",
    "                    if (c1[0] == c2[0] == c3[0]) and (c1[1] < c2[1]<c3[1]):\n",
    "                        \n",
    "                        print(\"name=three of a kind\",\"\\nrank=\",c1[0],\"\\nsuit1=\",c1[1],\"\\nsuit2=\",c2[1],\"\\nsuit3=\",c3[1])\n",
    "                        v=\"1000\" \n",
    "                        return v\n",
    "    else:\n",
    "        for c1 in Hand_:\n",
    "            for c2 in Hand_:\n",
    "                if (c1[0] == c2[0]) and (c1[1] < c2[1]):\n",
    "                    print(\"name='pair\",\"\\nrank=\",c1[0],\"\\nsuit1=\",c1[1],\"\\nsuit2=\",c2[1])\n",
    "                    v=\"100\"\n",
    "                    return v\n",
    "                    \n",
    "    if(Hand_[0][0]!=Hand_[1][0]!=Hand_[2][0]):\n",
    "        temp=Hand_[1][0]\n",
    "        for c1 in Hand_:\n",
    "            if(c1[0]>temp):\n",
    "                temp=c1[0]\n",
    "                b=c1[1]\n",
    "                print(\"high card:\",temp,\"suit=\",b)\n",
    "                v=\"10\"\n",
    "                return v\n",
    "                 \n",
    "def bedding():\n",
    "    agent1={'1':random.randint(50,100),'2':random.randint(50,100),'3':random.randint(50,100)}\n",
    "    agent2={'1':30,'2':25,'3':45}\n",
    "    total_amount_agent1=agent1['1']+agent1['2']+agent1['3']\n",
    "    total_amount_agent2=agent2['1']+agent2['2']+agent2['3']\n",
    "    return total_amount_agent1,total_amount_agent2\n",
    "        \n",
    "# Print out the result\n",
    "def analyseHand(Hand_2,Hand_1):\n",
    "    HandCategory = []\n",
    "\n",
    "    functionToUse = identifyHand\n",
    "    if(functionToUse(Hand_1)>functionToUse(Hand_2)):\n",
    "        \n",
    "        print(\"Hand 1 is winner\")\n",
    "        v1,v2=bedding()\n",
    "        print(\"hand 1 wons the total amount is\",v2)\n",
    "        \n",
    "    else:\n",
    "        #bedding()\n",
    "        print(\"Hand 2 is winner\")\n",
    "        print(\"hand 2 wons the total amount is\",total_amount_agent1)\n",
    "        \n",
    "\n",
    "            \n",
    "            \n",
    "analyseHand(CurrentHand1,CurrentHand2)\n"
   ]
  },
  {
   "cell_type": "code",
   "execution_count": null,
   "metadata": {},
   "outputs": [],
   "source": []
  }
 ],
 "metadata": {
  "kernelspec": {
   "display_name": "Python 3",
   "language": "python",
   "name": "python3"
  },
  "language_info": {
   "codemirror_mode": {
    "name": "ipython",
    "version": 3
   },
   "file_extension": ".py",
   "mimetype": "text/x-python",
   "name": "python",
   "nbconvert_exporter": "python",
   "pygments_lexer": "ipython3",
   "version": "3.7.4"
  }
 },
 "nbformat": 4,
 "nbformat_minor": 2
}

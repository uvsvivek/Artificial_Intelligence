{
 "cells": [
  {
   "cell_type": "code",
   "execution_count": 54,
   "metadata": {
    "scrolled": false
   },
   "outputs": [
    {
     "name": "stdout",
     "output_type": "stream",
     "text": [
      "Program started\n",
      "Connected to remote API server\n",
      "Number of objects in the scene:  81\n",
      "['clientID', 'energySensor', 'leftMotorHandle', 'pioneerRobotHandle', 'rightMotorHandle', 'ultraSonicSensorLeft', 'ultraSonicSensorRight']\n",
      "simulationTime 50\n",
      "simulationTime+100 150\n",
      "simulationTime 850\n",
      "simulationTime+100 950\n",
      "simulationTime 2450\n",
      "simulationTime+100 2550\n",
      "simulationTime 5650\n",
      "simulationTime+100 5750\n",
      "Time: 12000 ultraSonicSensorLeft: inf ultraSonicSensorRight: inf\n",
      "simulationTime 12000\n",
      "simulationTime+100 12100\n",
      "simulationTime 24950\n",
      "simulationTime+100 25050\n"
     ]
    },
    {
     "ename": "KeyboardInterrupt",
     "evalue": "",
     "output_type": "error",
     "traceback": [
      "\u001b[1;31m---------------------------------------------------------------------------\u001b[0m",
      "\u001b[1;31mKeyboardInterrupt\u001b[0m                         Traceback (most recent call last)",
      "\u001b[1;32m<ipython-input-54-acca54a8e181>\u001b[0m in \u001b[0;36m<module>\u001b[1;34m\u001b[0m\n\u001b[0;32m     55\u001b[0m     \u001b[0mb\u001b[0m\u001b[1;33m=\u001b[0m\u001b[0msimulationTime1\u001b[0m\u001b[1;33m\u001b[0m\u001b[1;33m\u001b[0m\u001b[0m\n\u001b[0;32m     56\u001b[0m     \u001b[0mmotorSpeed\u001b[0m \u001b[1;33m=\u001b[0m \u001b[0mdict\u001b[0m\u001b[1;33m(\u001b[0m\u001b[0mspeedLeft\u001b[0m\u001b[1;33m=\u001b[0m\u001b[1;36m4\u001b[0m\u001b[1;33m,\u001b[0m \u001b[0mspeedRight\u001b[0m\u001b[1;33m=\u001b[0m\u001b[1;36m4\u001b[0m\u001b[1;33m)\u001b[0m\u001b[1;33m\u001b[0m\u001b[1;33m\u001b[0m\u001b[0m\n\u001b[1;32m---> 57\u001b[1;33m     \u001b[0mWorld\u001b[0m\u001b[1;33m.\u001b[0m\u001b[0mexecute\u001b[0m\u001b[1;33m(\u001b[0m\u001b[0mmotorSpeed\u001b[0m\u001b[1;33m,\u001b[0m\u001b[0mb\u001b[0m\u001b[1;33m,\u001b[0m\u001b[1;36m0\u001b[0m\u001b[1;33m)\u001b[0m\u001b[1;33m\u001b[0m\u001b[1;33m\u001b[0m\u001b[0m\n\u001b[0m\u001b[0;32m     58\u001b[0m \u001b[1;33m\u001b[0m\u001b[0m\n\u001b[0;32m     59\u001b[0m     '''while simulationTime1>15000:\n",
      "\u001b[1;32mE:\\vrep\\lab1_code_Lab1_Agents_Task1_World.py\u001b[0m in \u001b[0;36mexecute\u001b[1;34m(motorSpeed, simulationTime, clockTime)\u001b[0m\n\u001b[0;32m     44\u001b[0m         \u001b[1;32mif\u001b[0m \u001b[0msimulationTime\u001b[0m\u001b[1;33m>\u001b[0m\u001b[1;36m0\u001b[0m \u001b[1;32mand\u001b[0m \u001b[0mgetSimulationTime\u001b[0m\u001b[1;33m(\u001b[0m\u001b[1;33m)\u001b[0m\u001b[1;33m>\u001b[0m\u001b[0mstartTimeSim\u001b[0m\u001b[1;33m+\u001b[0m\u001b[0msimulationTime\u001b[0m\u001b[1;33m:\u001b[0m \u001b[1;32mbreak\u001b[0m\u001b[1;33m\u001b[0m\u001b[1;33m\u001b[0m\u001b[0m\n\u001b[0;32m     45\u001b[0m         \u001b[1;32mif\u001b[0m \u001b[0mclockTime\u001b[0m\u001b[1;33m>\u001b[0m\u001b[1;36m0\u001b[0m \u001b[1;32mand\u001b[0m \u001b[0mtime\u001b[0m\u001b[1;33m.\u001b[0m\u001b[0mtime\u001b[0m\u001b[1;33m(\u001b[0m\u001b[1;33m)\u001b[0m\u001b[1;33m>\u001b[0m\u001b[0mstartTimeClock\u001b[0m\u001b[1;33m+\u001b[0m\u001b[0mclockTime\u001b[0m\u001b[1;33m:\u001b[0m \u001b[1;32mbreak\u001b[0m\u001b[1;33m\u001b[0m\u001b[1;33m\u001b[0m\u001b[0m\n\u001b[1;32m---> 46\u001b[1;33m         \u001b[0mtime\u001b[0m\u001b[1;33m.\u001b[0m\u001b[0msleep\u001b[0m\u001b[1;33m(\u001b[0m\u001b[1;36m0.1\u001b[0m\u001b[1;33m)\u001b[0m\u001b[1;33m\u001b[0m\u001b[1;33m\u001b[0m\u001b[0m\n\u001b[0m\u001b[0;32m     47\u001b[0m     \u001b[0mSTOP\u001b[0m\u001b[1;33m(\u001b[0m\u001b[1;33m)\u001b[0m\u001b[1;33m\u001b[0m\u001b[1;33m\u001b[0m\u001b[0m\n\u001b[0;32m     48\u001b[0m \u001b[1;33m\u001b[0m\u001b[0m\n",
      "\u001b[1;31mKeyboardInterrupt\u001b[0m: "
     ]
    }
   ],
   "source": [
    "# Make sure to have the server side running in V-REP:\n",
    "# in a child script of a V-REP scene, add following command\n",
    "# to be executed just once, at simulation start:\n",
    "#\n",
    "# simExtRemoteApiStart(19999)\n",
    "# then start simulation, and run this program.\n",
    "#\n",
    "# IMPORTANT: for each successful call to simxStart, there\n",
    "# should be a corresponding call to simxFinish at the end!\n",
    "import sys\n",
    "sys.path.append('E:\\\\vrep')\n",
    "import lab1_code_Lab1_Agents_Task1_World as World\n",
    "\n",
    "\n",
    "# connect to the server\n",
    "robot = World.init()\n",
    "# print important parts of the robot\n",
    "print(sorted(robot.keys()))\n",
    "\n",
    "while robot: # main Control loop\n",
    "    #######################################################\n",
    "    # Perception Phase: Get information about environment #\n",
    "    #######################################################\n",
    "    simulationTime = World.getSimulationTime()\n",
    "    if simulationTime%1000==0:\n",
    "        # print some useful info, but not too often\n",
    "        print ('Time:',simulationTime,\\\n",
    "               'ultraSonicSensorLeft:',World.getSensorReading(\"ultraSonicSensorLeft\"),\\\n",
    "               \"ultraSonicSensorRight:\", World.getSensorReading(\"ultraSonicSensorRight\"))\n",
    "    blockHandle,blockName,distance,direction =World.findEnergyBlocks()[0]\n",
    "    #print(\"simulationTime\",simulationTime)\n",
    "    #print(\"simulationTime+100\",simulationTime+100)\n",
    "    \n",
    "\n",
    "    ##############################################\n",
    "    # Reasoning: figure out which action to take #\n",
    "    ##############################################\n",
    "    if(direction <-0.05):\n",
    "        motorSpeed = dict(speedLeft=-1, speedRight=1)\n",
    "        World.collectNearestBlock()\n",
    "    elif(direction > 0.06):\n",
    "        motorSpeed = dict(speedLeft=1, speedRight=-1)\n",
    "        World.collectNearestBlock()\n",
    "    else:\n",
    "        motorSpeed = dict(speedLeft=4, speedRight=4)\n",
    "        World.collectNearestBlock()\n",
    "        \n",
    "          \n",
    "    ########################################\n",
    "    # Action Phase: Assign speed to wheels #\n",
    "    ########################################\n",
    "    # assign speed to the wheels\n",
    "    World.setMotorSpeeds(motorSpeed)\n",
    "    simulationTime1 = World.getSimulationTime()\n",
    "    b=simulationTime1\n",
    "    motorSpeed = dict(speedLeft=4, speedRight=4)\n",
    "    World.execute(motorSpeed,b,0)\n",
    "\n",
    "    '''while simulationTime1>15000:\n",
    "        World.collectNearestBlock()\n",
    "        if(World.getSensorReading(\"ultraSonicSensorLeft\")<0.5):\n",
    "            motorSpeed = dict(speedLeft=1, speedRight=-1)\n",
    "            World.collectNearestBlock()\n",
    "        elif(World.getSensorReading(\"ultraSonicSensorRight\")<0.5):\n",
    "            motorSpeed = dict(speedLeft=-1, speedRight=1)\n",
    "            World.collectNearestBlock()'''\n",
    "\n",
    "\n",
    "    # try to collect energy block (will fail if not within range)\n",
    "    '''\n",
    "    if(simulationTime%1000==0):\n",
    "        if(World.getSensorReading(\"ultraSonicSensorLeft\")<0.5):\n",
    "            motorSpeed = dict(speedLeft=14, speedRight=-14)\n",
    "            World.collectNearestBlock()\n",
    "        elif(World.getSensorReading(\"ultraSonicSensorRight\")<0.5):\n",
    "            motorSpeed = dict(speedLeft=-14, speedRight=14)\n",
    "            World.collectNearestBlock()\n",
    "        World.setMotorSpeeds(motorSpeed)\n",
    "        print (\"Trying to collect a block...\",World.collectNearestBlock())'''\n"
   ]
  },
  {
   "cell_type": "code",
   "execution_count": null,
   "metadata": {},
   "outputs": [],
   "source": []
  },
  {
   "cell_type": "code",
   "execution_count": null,
   "metadata": {},
   "outputs": [],
   "source": []
  }
 ],
 "metadata": {
  "kernelspec": {
   "display_name": "Python 3",
   "language": "python",
   "name": "python3"
  },
  "language_info": {
   "codemirror_mode": {
    "name": "ipython",
    "version": 3
   },
   "file_extension": ".py",
   "mimetype": "text/x-python",
   "name": "python",
   "nbconvert_exporter": "python",
   "pygments_lexer": "ipython3",
   "version": "3.7.4"
  }
 },
 "nbformat": 4,
 "nbformat_minor": 2
}

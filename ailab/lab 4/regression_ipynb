{
 "cells": [
  {
   "cell_type": "code",
   "execution_count": 1,
   "metadata": {},
   "outputs": [],
   "source": [
    "import pandas as pd\n",
    "import numpy as np\n",
    "data = np.loadtxt(open(\"Lab4Data.csv\", \"rb\"), delimiter=\";\", skiprows=1)"
   ]
  },
  {
   "cell_type": "code",
   "execution_count": 2,
   "metadata": {},
   "outputs": [],
   "source": [
    "x=data[:,:-1]\n",
    "y=data[:,-1]"
   ]
  },
  {
   "cell_type": "code",
   "execution_count": 3,
   "metadata": {},
   "outputs": [],
   "source": [
    "from sklearn.model_selection import train_test_split\n"
   ]
  },
  {
   "cell_type": "code",
   "execution_count": 4,
   "metadata": {},
   "outputs": [],
   "source": [
    "x_train,x_test,y_train,y_test=train_test_split(x,y,test_size=0.2)"
   ]
  },
  {
   "cell_type": "code",
   "execution_count": 5,
   "metadata": {},
   "outputs": [
    {
     "data": {
      "text/plain": [
       "1600"
      ]
     },
     "execution_count": 5,
     "metadata": {},
     "output_type": "execute_result"
    }
   ],
   "source": [
    "len(x_train)"
   ]
  },
  {
   "cell_type": "markdown",
   "metadata": {},
   "source": [
    "### knn regression"
   ]
  },
  {
   "cell_type": "code",
   "execution_count": 6,
   "metadata": {},
   "outputs": [],
   "source": [
    "from sklearn.neighbors import KNeighborsRegressor\n",
    "from sklearn.metrics import mean_absolute_error,r2_score\n",
    "from math import sqrt\n"
   ]
  },
  {
   "cell_type": "code",
   "execution_count": 8,
   "metadata": {
    "scrolled": true
   },
   "outputs": [
    {
     "name": "stdout",
     "output_type": "stream",
     "text": [
      "Root mean square error 1 : 0.4472135954999579\n",
      "Root mean square error 2 : 0.4821825380496478\n",
      "Root mean square error 3 : 0.49328828623162474\n",
      "Root mean square error 4 : 0.4962358310319802\n",
      "Root mean square error 5 : 0.5049752469181039\n",
      "Root mean square error 6 : 0.5070338581725419\n",
      "Root mean square error 7 : 0.5102520385624567\n",
      "Root mean square error 8 : 0.5111262075065218\n",
      "Root mean square error 9 : 0.51234753829798\n",
      "Root mean square error 10 : 0.5200961449578337\n",
      "Root mean square error 11 : 0.5252704930881716\n",
      "Root mean square error 12 : 0.5271780217978237\n",
      "Root mean square error 13 : 0.5322304301420868\n",
      "Root mean square error 14 : 0.5331845030434721\n",
      "Root mean square error 15 : 0.5389805191284746\n",
      "Root mean square error 16 : 0.5432828453025182\n",
      "Root mean square error 17 : 0.5458398817149478\n",
      "Root mean square error 18 : 0.5491154503178524\n",
      "Root mean square error 19 : 0.5502391824422692\n",
      "Root mean square error 20 : 0.5532856405149152\n",
      "Root mean square error 21 : 0.558377752319802\n",
      "Root mean square error 22 : 0.5612486080160911\n",
      "Root mean square error 23 : 0.5655893424984474\n",
      "Root mean square error 24 : 0.5678908345800273\n",
      "Root mean square error 25 : 0.571226750073909\n",
      "Root mean square error 26 : 0.5756267487236446\n",
      "Root mean square error 27 : 0.5783917677811787\n",
      "Root mean square error 28 : 0.5807169214489474\n",
      "Root mean square error 29 : 0.5825775070530427\n",
      "Root mean square error 30 : 0.5845225972250061\n",
      "Root mean square error 31 : 0.5866801073729164\n",
      "Root mean square error 32 : 0.5891598891642233\n",
      "Root mean square error 33 : 0.5918640302493727\n",
      "Root mean square error 34 : 0.5932834854583826\n",
      "Root mean square error 35 : 0.5947388382427077\n",
      "Root mean square error 36 : 0.5976807025680368\n",
      "Root mean square error 37 : 0.5996057263127388\n",
      "Root mean square error 38 : 0.6011502132972827\n",
      "Root mean square error 39 : 0.6037277362248479\n"
     ]
    }
   ],
   "source": [
    "for i in range(1,40):\n",
    "    knn=KNeighborsRegressor(n_neighbors=i)\n",
    "    knn.fit(x_train,y_train)\n",
    "    y_pred_knn=knn.predict(x_test)\n",
    "    print(\"Root mean square error\",i,\":\",sqrt(mean_absolute_error(y_test,y_pred_knn)))\n"
   ]
  },
  {
   "cell_type": "code",
   "execution_count": 14,
   "metadata": {},
   "outputs": [
    {
     "name": "stdout",
     "output_type": "stream",
     "text": [
      "mean_absolute_error 0.2428125\n",
      "Root mean square error 0.4927600836106756\n",
      "r2_score 0.7884374620437069\n"
     ]
    }
   ],
   "source": [
    "print(\"mean_absolute_error\",mean_absolute_error(y_test,y_pred_knn))\n",
    "print(\"r2_score\",r2_score(y_test,y_pred_knn))"
   ]
  },
  {
   "cell_type": "markdown",
   "metadata": {},
   "source": [
    "   ### Linear regression "
   ]
  },
  {
   "cell_type": "code",
   "execution_count": 15,
   "metadata": {},
   "outputs": [],
   "source": [
    "from sklearn.linear_model import LinearRegression"
   ]
  },
  {
   "cell_type": "code",
   "execution_count": 17,
   "metadata": {},
   "outputs": [
    {
     "data": {
      "text/plain": [
       "LinearRegression(copy_X=True, fit_intercept=True, n_jobs=None, normalize=False)"
      ]
     },
     "execution_count": 17,
     "metadata": {},
     "output_type": "execute_result"
    }
   ],
   "source": [
    "linear1=LinearRegression()\n",
    "linear1.fit(x_train,y_train)"
   ]
  },
  {
   "cell_type": "code",
   "execution_count": 18,
   "metadata": {},
   "outputs": [],
   "source": [
    "linear_pred=linear1.predict(x_test)"
   ]
  },
  {
   "cell_type": "code",
   "execution_count": 19,
   "metadata": {},
   "outputs": [
    {
     "name": "stdout",
     "output_type": "stream",
     "text": [
      "mean_absolute_error 0.20627466946855388\n",
      "Root mean square error 0.45417471249350055\n",
      "r2_score 0.9004404043844749\n"
     ]
    }
   ],
   "source": [
    "print(\"mean_absolute_error\",mean_absolute_error(y_test,linear_pred))\n",
    "print(\"Root mean square error\",sqrt(mean_absolute_error(y_test,linear_pred)))\n",
    "print(\"r2_score\",r2_score(y_test,linear_pred))"
   ]
  },
  {
   "cell_type": "markdown",
   "metadata": {},
   "source": [
    "### SVM regression"
   ]
  },
  {
   "cell_type": "code",
   "execution_count": 20,
   "metadata": {},
   "outputs": [],
   "source": [
    "from sklearn.svm import SVR"
   ]
  },
  {
   "cell_type": "code",
   "execution_count": 22,
   "metadata": {},
   "outputs": [
    {
     "name": "stderr",
     "output_type": "stream",
     "text": [
      "E:\\anaconda\\lib\\site-packages\\sklearn\\svm\\base.py:193: FutureWarning: The default value of gamma will change from 'auto' to 'scale' in version 0.22 to account better for unscaled features. Set gamma explicitly to 'auto' or 'scale' to avoid this warning.\n",
      "  \"avoid this warning.\", FutureWarning)\n"
     ]
    },
    {
     "data": {
      "text/plain": [
       "SVR(C=1.0, cache_size=200, coef0=0.0, degree=3, epsilon=0.1,\n",
       "    gamma='auto_deprecated', kernel='rbf', max_iter=-1, shrinking=True,\n",
       "    tol=0.001, verbose=False)"
      ]
     },
     "execution_count": 22,
     "metadata": {},
     "output_type": "execute_result"
    }
   ],
   "source": [
    "svr=SVR()\n",
    "svr.fit(x_train,y_train)"
   ]
  },
  {
   "cell_type": "code",
   "execution_count": 23,
   "metadata": {},
   "outputs": [],
   "source": [
    "svr_pred=svr.predict(x_test)"
   ]
  },
  {
   "cell_type": "code",
   "execution_count": 24,
   "metadata": {},
   "outputs": [
    {
     "name": "stdout",
     "output_type": "stream",
     "text": [
      "mean_absolute_error 0.5664532006049885\n",
      "Root mean square error 0.7526308528123123\n",
      "r2_score 0.31626426176990863\n"
     ]
    }
   ],
   "source": [
    "print(\"mean_absolute_error\",mean_absolute_error(y_test,svr_pred))\n",
    "print(\"Root mean square error\",sqrt(mean_absolute_error(y_test,svr_pred)))\n",
    "print(\"r2_score\",r2_score(y_test,svr_pred))"
   ]
  },
  {
   "cell_type": "code",
   "execution_count": null,
   "metadata": {},
   "outputs": [],
   "source": []
  }
 ],
 "metadata": {
  "kernelspec": {
   "display_name": "Python 3",
   "language": "python",
   "name": "python3"
  },
  "language_info": {
   "codemirror_mode": {
    "name": "ipython",
    "version": 3
   },
   "file_extension": ".py",
   "mimetype": "text/x-python",
   "name": "python",
   "nbconvert_exporter": "python",
   "pygments_lexer": "ipython3",
   "version": "3.7.4"
  }
 },
 "nbformat": 4,
 "nbformat_minor": 2
}
